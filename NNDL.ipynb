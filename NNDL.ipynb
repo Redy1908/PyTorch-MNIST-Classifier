{
 "cells": [
  {
   "cell_type": "markdown",
   "metadata": {},
   "source": [
    "### Import the required packages"
   ]
  },
  {
   "cell_type": "code",
   "execution_count": 59,
   "metadata": {},
   "outputs": [],
   "source": [
    "import torch\n",
    "import torchvision\n",
    "import numpy as np\n",
    "import pandas as pd\n",
    "import torch.nn as nn\n",
    "import matplotlib.pyplot as plt\n",
    "import torchvision.transforms as transforms\n",
    "from sklearn.model_selection import StratifiedKFold"
   ]
  },
  {
   "cell_type": "markdown",
   "metadata": {},
   "source": [
    "### Select the computing device"
   ]
  },
  {
   "cell_type": "code",
   "execution_count": 61,
   "metadata": {},
   "outputs": [],
   "source": [
    "device = torch.device('cuda' if torch.cuda.is_available() else 'cpu')"
   ]
  },
  {
   "cell_type": "markdown",
   "metadata": {},
   "source": [
    "### Model hyperparameters"
   ]
  },
  {
   "cell_type": "code",
   "execution_count": 62,
   "metadata": {},
   "outputs": [],
   "source": [
    "input_size = 784\n",
    "hidden_size = 100\n",
    "num_classes = 10\n",
    "num_epochs = 2\n",
    "batch_size = 100\n",
    "leaning_rate = 0.001\n",
    "eta_minus = 0.5\n",
    "eta_plus = 1.2"
   ]
  },
  {
   "cell_type": "markdown",
   "metadata": {},
   "source": [
    "### Load the dataset and create the data loaders "
   ]
  },
  {
   "cell_type": "code",
   "execution_count": 86,
   "metadata": {},
   "outputs": [],
   "source": [
    "transform = transforms.Compose([\n",
    "    transforms.ToTensor(),\n",
    "    transforms.Normalize((0.1307,), (0.3081,))\n",
    "])\n",
    "\n",
    "X_train = torchvision.datasets.MNIST(\n",
    "    root='./data', \n",
    "    train=True,\n",
    "    transform=transform,\n",
    "    download=True\n",
    ")\n",
    "\n",
    "X_test = torchvision.datasets.MNIST(\n",
    "    root='./data', \n",
    "    train=False,\n",
    "    transform=transform,\n",
    "    download=True\n",
    ")\n",
    "\n",
    "train_loader = torch.utils.data.DataLoader(\n",
    "    dataset=X_train,\n",
    "    batch_size=batch_size,\n",
    "    shuffle=True\n",
    ")\n",
    "\n",
    "test_loader = torch.utils.data.DataLoader(\n",
    "    dataset=X_test,\n",
    "    batch_size=batch_size,\n",
    "    shuffle=False\n",
    ")\n",
    "\n",
    "# Used for finding the mean and std of the dataset\n",
    "#print(X_train.train_data.float().mean()/255)\n",
    "#print(X_train.train_data.float().std()/255)"
   ]
  },
  {
   "cell_type": "markdown",
   "metadata": {},
   "source": [
    "### Check the data"
   ]
  },
  {
   "cell_type": "code",
   "execution_count": null,
   "metadata": {},
   "outputs": [],
   "source": [
    "print(f'X_train data shape: {X_train.data.shape}')\n",
    "print(f'X_train targets shape: {X_train.targets.shape}')\n",
    "\n",
    "print(f'X_test data shape: {X_test.data.shape}')\n",
    "print(f'X_test targets shape: {X_test.targets.shape}')\n",
    "\n",
    "print(f'Classes: {X_train.classes}')\n",
    "\n",
    "examples = iter(train_loader)\n",
    "samples, labels = next(examples)\n",
    "print(f'Samples shape: {samples.shape}')\n",
    "print(f'Labels shape: {labels.shape}')\n",
    "\n",
    "for i in range(6):\n",
    "    plt.subplot(2, 3, i+1)\n",
    "    plt.xticks([])\n",
    "    plt.yticks([])\n",
    "    plt.imshow(samples[i][0], cmap='gray')\n",
    "    plt.xlabel(f'Label: {labels[i].item()}')"
   ]
  },
  {
   "cell_type": "markdown",
   "metadata": {},
   "source": [
    "### Check the data distribution"
   ]
  },
  {
   "cell_type": "code",
   "execution_count": null,
   "metadata": {},
   "outputs": [],
   "source": [
    "y_train = X_train.targets.numpy()\n",
    "y_test = X_test.targets.numpy()\n",
    "    \n",
    "datasets = {\n",
    "    'Train': y_train,\n",
    "    'Test': y_test\n",
    "}\n",
    "    \n",
    "data = []\n",
    "for set_name, y_data in datasets.items():\n",
    "    unique, counts = np.unique(y_data, return_counts=True)\n",
    "    for digit, count in zip(unique, counts):\n",
    "        data.append({\n",
    "            'Dataset': set_name,\n",
    "            'Digit': digit,\n",
    "            'Count': count\n",
    "        })\n",
    "    \n",
    "df = pd.DataFrame(data)\n",
    "    \n",
    "plt.figure(figsize=(15, 8))\n",
    "df_pivot = df.pivot(index='Digit', columns='Dataset', values='Count')\n",
    "df_pivot.plot(kind='bar', width=0.8)\n",
    "    \n",
    "plt.title('Digit distribution in MNIST datasets')\n",
    "plt.xlabel('Digit')\n",
    "plt.ylabel('Count')\n",
    "plt.legend(title='Dataset', loc='upper right')\n",
    "plt.grid(True, alpha=0.3)\n",
    "    \n",
    "plt.show()"
   ]
  },
  {
   "cell_type": "markdown",
   "metadata": {},
   "source": [
    "### Model class and helper functions"
   ]
  },
  {
   "cell_type": "code",
   "execution_count": 81,
   "metadata": {},
   "outputs": [],
   "source": [
    "class Net(nn.Module):\n",
    "    def __init__(self, input_size, hidden_size, num_classes):\n",
    "        super(Net, self).__init__()\n",
    "        self.fc1 = nn.Linear(input_size, hidden_size)\n",
    "        self.relu = nn.ReLU()\n",
    "        self.fc2 = nn.Linear(hidden_size, num_classes)\n",
    "    \n",
    "    def forward(self, x):\n",
    "        out = self.fc1(x)\n",
    "        out = self.relu(out)\n",
    "        out = self.fc2(out)\n",
    "        return out\n",
    "    \n",
    "def train_model(model, train_loader, criterion, optimizer, device, num_epochs):\n",
    "    train_losses = []\n",
    "    n_total_steps = len(train_loader)\n",
    "\n",
    "    for epoch in range(num_epochs):\n",
    "        model.train()\n",
    "        running_loss = 0.0\n",
    "\n",
    "        for i, (images, labels) in enumerate(train_loader):\n",
    "            images = images.reshape(-1, 28*28).to(device)\n",
    "            labels = labels.to(device)\n",
    "\n",
    "            outputs = model(images)\n",
    "            loss = criterion(outputs, labels)\n",
    "\n",
    "            optimizer.zero_grad()\n",
    "            loss.backward()\n",
    "            optimizer.step()\n",
    "\n",
    "            running_loss += loss.item()\n",
    "\n",
    "            if (i+1) % 100 == 0:\n",
    "                print(f'Epoch [{epoch+1}/{num_epochs}], Step [{i+1}/{n_total_steps}], Loss: {loss.item()}')\n",
    "\n",
    "        train_loss = running_loss / n_total_steps\n",
    "        train_losses.append(train_loss)\n",
    "    \n",
    "    return train_losses\n",
    "    \n",
    "def validate_model(model, test_loader, criterion, device, verbose):\n",
    "    val_losses = []\n",
    "    n_total_steps = len(test_loader)\n",
    "    val_loss = 0.0\n",
    "    \n",
    "    model.eval()\n",
    "    with torch.no_grad():\n",
    "        n_correct = 0\n",
    "        n_samples = 0\n",
    "        for images, labels in test_loader:\n",
    "            images = images.reshape(-1, 28*28).to(device)\n",
    "            labels = labels.to(device)\n",
    "            outputs = model(images)\n",
    "            loss = criterion(outputs, labels)\n",
    "            val_loss += loss.item()\n",
    "\n",
    "            _, predicted = torch.max(outputs, 1)\n",
    "            n_samples += labels.size(0)\n",
    "            n_correct += (predicted == labels).sum().item()\n",
    "\n",
    "        val_loss /= n_total_steps\n",
    "        val_losses.append(val_loss)\n",
    "\n",
    "        acc = 100.0 * n_correct / n_samples\n",
    "        \n",
    "        if verbose:\n",
    "            print(f'Accuracy of the network on the test images: {acc} %')\n",
    "    \n",
    "    return val_losses, acc"
   ]
  },
  {
   "cell_type": "markdown",
   "metadata": {},
   "source": [
    "### Definitions"
   ]
  },
  {
   "cell_type": "code",
   "execution_count": 82,
   "metadata": {},
   "outputs": [],
   "source": [
    "model = Net(input_size, hidden_size, num_classes).to(device)\n",
    "criterion = nn.CrossEntropyLoss()\n",
    "optimizer = torch.optim.Rprop(model.parameters(), lr=leaning_rate, etas=(eta_minus, eta_plus))"
   ]
  },
  {
   "cell_type": "markdown",
   "metadata": {},
   "source": [
    "### Simple training and validation"
   ]
  },
  {
   "cell_type": "code",
   "execution_count": null,
   "metadata": {},
   "outputs": [],
   "source": [
    "train_model(model, train_loader, criterion, optimizer, device, num_epochs)\n",
    "validate_model(model, test_loader, criterion, device, verbose=True)"
   ]
  },
  {
   "cell_type": "markdown",
   "metadata": {},
   "source": [
    "### KFold cross validation"
   ]
  },
  {
   "cell_type": "code",
   "execution_count": null,
   "metadata": {},
   "outputs": [],
   "source": [
    "X = X_train.data.numpy().reshape(-1, 784)\n",
    "y = X_train.targets.numpy()\n",
    "\n",
    "k_folds = 5\n",
    "kfold = StratifiedKFold(n_splits=k_folds, shuffle=True)\n",
    "\n",
    "fold_train_losses = []\n",
    "fold_val_losses = []\n",
    "fold_accuracies = []\n",
    "\n",
    "for fold, (train_ids, val_ids) in enumerate(kfold.split(X, y)):\n",
    "    print(f'FOLD {fold+1}')\n",
    "    \n",
    "    train_subsampler = torch.utils.data.SubsetRandomSampler(train_ids)\n",
    "    val_subsampler = torch.utils.data.SubsetRandomSampler(val_ids)\n",
    "    \n",
    "    train_loader = torch.utils.data.DataLoader(\n",
    "        X_train, \n",
    "        batch_size=batch_size,\n",
    "        sampler=train_subsampler\n",
    "    )\n",
    "    \n",
    "    val_loader = torch.utils.data.DataLoader(\n",
    "        X_train,\n",
    "        batch_size=batch_size,\n",
    "        sampler=val_subsampler\n",
    "    )\n",
    "    \n",
    "    model = Net(input_size, hidden_size, num_classes).to(device)\n",
    "    criterion = nn.CrossEntropyLoss()\n",
    "    optimizer = torch.optim.Rprop(model.parameters(), lr=leaning_rate, etas=(eta_minus, eta_plus))\n",
    "    \n",
    "    train_losses = train_model(model, train_loader, criterion, optimizer, device, num_epochs)\n",
    "    val_losses, accuracy = validate_model(model, val_loader, criterion, device, verbose=False)\n",
    "    \n",
    "    fold_train_losses.append(train_losses)\n",
    "    fold_val_losses.append(val_losses)\n",
    "    fold_accuracies.append(accuracy)\n",
    "    \n",
    "    print(f'Fold {fold+1} - Final Train Loss: {train_losses[-1]:.4f}, Val Loss: {val_losses[-1]:.4f}, Accuracy: {accuracy:.2f}%')\n",
    "\n",
    "print('\\nK-FOLD CROSS VALIDATION RESULTS')\n",
    "print('--------------------------------')\n",
    "print(f'Average accuracy: {np.mean(fold_accuracies):.2f}% (+- {np.std(fold_accuracies):.2f}%)')\n",
    "print(f'Average training loss: {np.mean([losses[-1] for losses in fold_train_losses]):.4f}')\n",
    "print(f'Average validation loss: {np.mean([losses[-1] for losses in fold_val_losses]):.4f}')"
   ]
  }
 ],
 "metadata": {
  "kernelspec": {
   "display_name": ".venv",
   "language": "python",
   "name": "python3"
  },
  "language_info": {
   "codemirror_mode": {
    "name": "ipython",
    "version": 3
   },
   "file_extension": ".py",
   "mimetype": "text/x-python",
   "name": "python",
   "nbconvert_exporter": "python",
   "pygments_lexer": "ipython3",
   "version": "3.12.3"
  }
 },
 "nbformat": 4,
 "nbformat_minor": 2
}
